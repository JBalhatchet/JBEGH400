{
 "cells": [
  {
   "cell_type": "code",
   "execution_count": 1,
   "metadata": {},
   "outputs": [],
   "source": [
    "import csv\n",
    "\n",
    "import numpy as np\n",
    "import tensorflow as tf\n",
    "from sklearn.model_selection import train_test_split\n",
    "\n",
    "from tensorflow.keras.utils import model_to_dot, plot_model\n",
    "\n",
    "import IPython\n",
    "from IPython.display import SVG\n",
    "\n",
    "RANDOM_SEED = 42"
   ]
  },
  {
   "cell_type": "markdown",
   "metadata": {},
   "source": [
    "# 各パス指定"
   ]
  },
  {
   "cell_type": "code",
   "execution_count": 2,
   "metadata": {},
   "outputs": [],
   "source": [
    "dataset = 'model/keypoint_classifier/keypoint.csv'\n",
    "model_save_path = 'model/keypoint_classifier/keypoint_classifier.hdf5'"
   ]
  },
  {
   "cell_type": "markdown",
   "metadata": {},
   "source": [
    "# 分類数設定"
   ]
  },
  {
   "cell_type": "code",
   "execution_count": 2,
   "metadata": {},
   "outputs": [],
   "source": [
    "NUM_CLASSES = 12"
   ]
  },
  {
   "cell_type": "markdown",
   "metadata": {},
   "source": [
    "# 学習データ読み込み"
   ]
  },
  {
   "cell_type": "code",
   "execution_count": 4,
   "metadata": {},
   "outputs": [],
   "source": [
    "X_dataset = np.loadtxt(dataset, delimiter=',', dtype='float32', usecols=list(range(1, (21 * 2) + 1)))"
   ]
  },
  {
   "cell_type": "code",
   "execution_count": 5,
   "metadata": {},
   "outputs": [],
   "source": [
    "y_dataset = np.loadtxt(dataset, delimiter=',', dtype='int32', usecols=(0))"
   ]
  },
  {
   "cell_type": "code",
   "execution_count": 6,
   "metadata": {},
   "outputs": [],
   "source": [
    "X_train, X_test, y_train, y_test = train_test_split(X_dataset, y_dataset, train_size=0.75, random_state=RANDOM_SEED)"
   ]
  },
  {
   "cell_type": "markdown",
   "metadata": {},
   "source": [
    "# モデル構築"
   ]
  },
  {
   "cell_type": "code",
   "execution_count": 3,
   "metadata": {},
   "outputs": [],
   "source": [
    "model = tf.keras.models.Sequential([\n",
    "    tf.keras.layers.Input((21 * 2, )),\n",
    "    tf.keras.layers.Dropout(0.2),\n",
    "    tf.keras.layers.Dense(25, activation='relu'),\n",
    "    tf.keras.layers.Dropout(0.4),\n",
    "    tf.keras.layers.Dense(15, activation='relu'),\n",
    "    tf.keras.layers.Dense(NUM_CLASSES, activation='softmax')\n",
    "])"
   ]
  },
  {
   "cell_type": "code",
   "execution_count": 4,
   "metadata": {},
   "outputs": [
    {
     "name": "stdout",
     "output_type": "stream",
     "text": [
      "Model: \"sequential\"\n",
      "_________________________________________________________________\n",
      " Layer (type)                Output Shape              Param #   \n",
      "=================================================================\n",
      " dropout (Dropout)           (None, 42)                0         \n",
      "                                                                 \n",
      " dense (Dense)               (None, 25)                1075      \n",
      "                                                                 \n",
      " dropout_1 (Dropout)         (None, 25)                0         \n",
      "                                                                 \n",
      " dense_1 (Dense)             (None, 15)                390       \n",
      "                                                                 \n",
      " dense_2 (Dense)             (None, 12)                192       \n",
      "                                                                 \n",
      "=================================================================\n",
      "Total params: 1,657\n",
      "Trainable params: 1,657\n",
      "Non-trainable params: 0\n",
      "_________________________________________________________________\n"
     ]
    }
   ],
   "source": [
    "model.summary()  # tf.keras.utils.plot_model(model, show_shapes=True)"
   ]
  },
  {
   "cell_type": "code",
   "execution_count": 5,
   "metadata": {},
   "outputs": [
    {
     "data": {
      "image/png": "[encoded data removed]",
      "text/plain": [
       "<IPython.core.display.Image object>"
      ]
     },
     "execution_count": 5,
     "metadata": {},
     "output_type": "execute_result"
    }
   ],
   "source": [
    "plot_model(model, to_file='test_keras_plot_model.png', show_shapes=True)\n",
    "IPython.display.Image('test_keras_plot_model.png')"
   ]
  },
  {
   "cell_type": "code",
   "execution_count": 9,
   "metadata": {},
   "outputs": [],
   "source": [
    "# モデルチェックポイントのコールバック\n",
    "cp_callback = tf.keras.callbacks.ModelCheckpoint(\n",
    "    model_save_path, verbose=1, save_weights_only=False)\n",
    "# 早期打ち切り用コールバック\n",
    "es_callback = tf.keras.callbacks.EarlyStopping(patience=20, verbose=1)"
   ]
  },
  {
   "cell_type": "code",
   "execution_count": 10,
   "metadata": {},
   "outputs": [],
   "source": [
    "# モデルコンパイル\n",
    "model.compile(\n",
    "    optimizer='adam',\n",
    "    loss='sparse_categorical_crossentropy',\n",
    "    metrics=['accuracy']\n",
    ")"
   ]
  },
  {
   "cell_type": "markdown",
   "metadata": {},
   "source": [
    "# モデル訓練"
   ]
  },
  {
   "cell_type": "code",
   "execution_count": 11,
   "metadata": {
    "scrolled": true
   },
   "outputs": [
    {
     "name": "stdout",
     "output_type": "stream",
     "text": [
      "Epoch 1/1000\n",
      "53/81 [==================>...........] - ETA: 0s - loss: 2.4282 - accuracy: 0.1509\n",
      "Epoch 1: saving model to model/keypoint_classifier\\keypoint_classifier.hdf5\n",
      "81/81 [==============================] - 3s 8ms/step - loss: 2.3715 - accuracy: 0.1646 - val_loss: 2.1520 - val_accuracy: 0.2391\n",
      "Epoch 2/1000\n",
      "42/81 [==============>...............] - ETA: 0s - loss: 2.1389 - accuracy: 0.2310\n",
      "Epoch 2: saving model to model/keypoint_classifier\\keypoint_classifier.hdf5\n",
      "81/81 [==============================] - 0s 3ms/step - loss: 2.0650 - accuracy: 0.2464 - val_loss: 1.7633 - val_accuracy: 0.4301\n",
      "Epoch 3/1000\n",
      "45/81 [===============>..............] - ETA: 0s - loss: 1.8227 - accuracy: 0.3201\n",
      "Epoch 3: saving model to model/keypoint_classifier\\keypoint_classifier.hdf5\n",
      "81/81 [==============================] - 0s 2ms/step - loss: 1.7502 - accuracy: 0.3404 - val_loss: 1.3947 - val_accuracy: 0.5461\n",
      "Epoch 4/1000\n",
      "46/81 [================>.............] - ETA: 0s - loss: 1.5449 - accuracy: 0.4215\n",
      "Epoch 4: saving model to model/keypoint_classifier\\keypoint_classifier.hdf5\n",
      "81/81 [==============================] - 0s 3ms/step - loss: 1.4980 - accuracy: 0.4300 - val_loss: 1.1212 - val_accuracy: 0.7461\n",
      "Epoch 5/1000\n",
      "46/81 [================>.............] - ETA: 0s - loss: 1.3856 - accuracy: 0.4696\n",
      "Epoch 5: saving model to model/keypoint_classifier\\keypoint_classifier.hdf5\n",
      "81/81 [==============================] - 0s 3ms/step - loss: 1.3512 - accuracy: 0.4812 - val_loss: 0.9562 - val_accuracy: 0.8612\n",
      "Epoch 6/1000\n",
      "46/81 [================>.............] - ETA: 0s - loss: 1.2257 - accuracy: 0.5416\n",
      "Epoch 6: saving model to model/keypoint_classifier\\keypoint_classifier.hdf5\n",
      "81/81 [==============================] - 0s 3ms/step - loss: 1.2268 - accuracy: 0.5323 - val_loss: 0.8137 - val_accuracy: 0.9386\n",
      "Epoch 7/1000\n",
      "45/81 [===============>..............] - ETA: 0s - loss: 1.1611 - accuracy: 0.5582\n",
      "Epoch 7: saving model to model/keypoint_classifier\\keypoint_classifier.hdf5\n",
      "81/81 [==============================] - 0s 3ms/step - loss: 1.1465 - accuracy: 0.5601 - val_loss: 0.7182 - val_accuracy: 0.9243\n",
      "Epoch 8/1000\n",
      "46/81 [================>.............] - ETA: 0s - loss: 1.0755 - accuracy: 0.5846\n",
      "Epoch 8: saving model to model/keypoint_classifier\\keypoint_classifier.hdf5\n",
      "81/81 [==============================] - 0s 3ms/step - loss: 1.0728 - accuracy: 0.5845 - val_loss: 0.6423 - val_accuracy: 0.9557\n",
      "Epoch 9/1000\n",
      "45/81 [===============>..............] - ETA: 0s - loss: 1.0459 - accuracy: 0.5934\n",
      "Epoch 9: saving model to model/keypoint_classifier\\keypoint_classifier.hdf5\n",
      "81/81 [==============================] - 0s 3ms/step - loss: 1.0339 - accuracy: 0.6022 - val_loss: 0.5864 - val_accuracy: 0.9612\n",
      "Epoch 10/1000\n",
      "43/81 [==============>...............] - ETA: 0s - loss: 0.9764 - accuracy: 0.6277\n",
      "Epoch 10: saving model to model/keypoint_classifier\\keypoint_classifier.hdf5\n",
      "81/81 [==============================] - 0s 3ms/step - loss: 0.9859 - accuracy: 0.6201 - val_loss: 0.5460 - val_accuracy: 0.9380\n",
      "Epoch 11/1000\n",
      "44/81 [===============>..............] - ETA: 0s - loss: 0.9700 - accuracy: 0.6202\n",
      "Epoch 11: saving model to model/keypoint_classifier\\keypoint_classifier.hdf5\n",
      "81/81 [==============================] - 0s 2ms/step - loss: 0.9515 - accuracy: 0.6304 - val_loss: 0.4881 - val_accuracy: 0.9322\n",
      "Epoch 12/1000\n",
      "46/81 [================>.............] - ETA: 0s - loss: 0.9208 - accuracy: 0.6523\n",
      "Epoch 12: saving model to model/keypoint_classifier\\keypoint_classifier.hdf5\n",
      "81/81 [==============================] - 0s 2ms/step - loss: 0.9211 - accuracy: 0.6496 - val_loss: 0.4572 - val_accuracy: 0.9351\n",
      "Epoch 13/1000\n",
      "44/81 [===============>..............] - ETA: 0s - loss: 0.9029 - accuracy: 0.6536\n",
      "Epoch 13: saving model to model/keypoint_classifier\\keypoint_classifier.hdf5\n",
      "81/81 [==============================] - 0s 3ms/step - loss: 0.8938 - accuracy: 0.6572 - val_loss: 0.4279 - val_accuracy: 0.9461\n",
      "Epoch 14/1000\n",
      "43/81 [==============>...............] - ETA: 0s - loss: 0.8836 - accuracy: 0.6579\n",
      "Epoch 14: saving model to model/keypoint_classifier\\keypoint_classifier.hdf5\n",
      "81/81 [==============================] - 0s 3ms/step - loss: 0.8728 - accuracy: 0.6633 - val_loss: 0.4021 - val_accuracy: 0.9330\n",
      "Epoch 15/1000\n",
      "44/81 [===============>..............] - ETA: 0s - loss: 0.8620 - accuracy: 0.6712\n",
      "Epoch 15: saving model to model/keypoint_classifier\\keypoint_classifier.hdf5\n",
      "81/81 [==============================] - 0s 3ms/step - loss: 0.8571 - accuracy: 0.6716 - val_loss: 0.3824 - val_accuracy: 0.9377\n",
      "Epoch 16/1000\n",
      "44/81 [===============>..............] - ETA: 0s - loss: 0.8497 - accuracy: 0.6765\n",
      "Epoch 16: saving model to model/keypoint_classifier\\keypoint_classifier.hdf5\n",
      "81/81 [==============================] - 0s 3ms/step - loss: 0.8454 - accuracy: 0.6770 - val_loss: 0.3631 - val_accuracy: 0.9377\n",
      "Epoch 17/1000\n",
      "45/81 [===============>..............] - ETA: 0s - loss: 0.8279 - accuracy: 0.6806\n",
      "Epoch 17: saving model to model/keypoint_classifier\\keypoint_classifier.hdf5\n",
      "81/81 [==============================] - 0s 3ms/step - loss: 0.8185 - accuracy: 0.6859 - val_loss: 0.3437 - val_accuracy: 0.9423\n",
      "Epoch 18/1000\n",
      "44/81 [===============>..............] - ETA: 0s - loss: 0.8051 - accuracy: 0.6944\n",
      "Epoch 18: saving model to model/keypoint_classifier\\keypoint_classifier.hdf5\n",
      "81/81 [==============================] - 0s 3ms/step - loss: 0.8036 - accuracy: 0.6939 - val_loss: 0.3246 - val_accuracy: 0.9446\n",
      "Epoch 19/1000\n",
      "45/81 [===============>..............] - ETA: 0s - loss: 0.7918 - accuracy: 0.6885\n",
      "Epoch 19: saving model to model/keypoint_classifier\\keypoint_classifier.hdf5\n",
      "81/81 [==============================] - 0s 3ms/step - loss: 0.7900 - accuracy: 0.6907 - val_loss: 0.3126 - val_accuracy: 0.9504\n",
      "Epoch 20/1000\n",
      "41/81 [==============>...............] - ETA: 0s - loss: 0.7774 - accuracy: 0.6965\n",
      "Epoch 20: saving model to model/keypoint_classifier\\keypoint_classifier.hdf5\n",
      "81/81 [==============================] - 0s 3ms/step - loss: 0.7726 - accuracy: 0.7006 - val_loss: 0.2974 - val_accuracy: 0.9571\n",
      "Epoch 21/1000\n",
      "45/81 [===============>..............] - ETA: 0s - loss: 0.7704 - accuracy: 0.7076\n",
      "Epoch 21: saving model to model/keypoint_classifier\\keypoint_classifier.hdf5\n",
      "81/81 [==============================] - 0s 3ms/step - loss: 0.7732 - accuracy: 0.7033 - val_loss: 0.2938 - val_accuracy: 0.9510\n",
      "Epoch 22/1000\n",
      "44/81 [===============>..............] - ETA: 0s - loss: 0.7580 - accuracy: 0.7079\n",
      "Epoch 22: saving model to model/keypoint_classifier\\keypoint_classifier.hdf5\n",
      "81/81 [==============================] - 0s 3ms/step - loss: 0.7526 - accuracy: 0.7128 - val_loss: 0.2803 - val_accuracy: 0.9516\n",
      "Epoch 23/1000\n",
      "43/81 [==============>...............] - ETA: 0s - loss: 0.7504 - accuracy: 0.7171\n",
      "Epoch 23: saving model to model/keypoint_classifier\\keypoint_classifier.hdf5\n",
      "81/81 [==============================] - 0s 3ms/step - loss: 0.7466 - accuracy: 0.7143 - val_loss: 0.2762 - val_accuracy: 0.9504\n",
      "Epoch 24/1000\n",
      "45/81 [===============>..............] - ETA: 0s - loss: 0.7499 - accuracy: 0.7094\n",
      "Epoch 24: saving model to model/keypoint_classifier\\keypoint_classifier.hdf5\n",
      "81/81 [==============================] - 0s 3ms/step - loss: 0.7474 - accuracy: 0.7128 - val_loss: 0.2620 - val_accuracy: 0.9475\n",
      "Epoch 25/1000\n",
      "45/81 [===============>..............] - ETA: 0s - loss: 0.7096 - accuracy: 0.7273\n",
      "Epoch 25: saving model to model/keypoint_classifier\\keypoint_classifier.hdf5\n",
      "81/81 [==============================] - 0s 3ms/step - loss: 0.7268 - accuracy: 0.7208 - val_loss: 0.2593 - val_accuracy: 0.9536\n",
      "Epoch 26/1000\n",
      "46/81 [================>.............] - ETA: 0s - loss: 0.7251 - accuracy: 0.7228\n",
      "Epoch 26: saving model to model/keypoint_classifier\\keypoint_classifier.hdf5\n",
      "81/81 [==============================] - 0s 2ms/step - loss: 0.7243 - accuracy: 0.7233 - val_loss: 0.2544 - val_accuracy: 0.9922\n",
      "Epoch 27/1000\n",
      "43/81 [==============>...............] - ETA: 0s - loss: 0.7225 - accuracy: 0.7233\n",
      "Epoch 27: saving model to model/keypoint_classifier\\keypoint_classifier.hdf5\n",
      "81/81 [==============================] - 0s 3ms/step - loss: 0.7157 - accuracy: 0.7214 - val_loss: 0.2497 - val_accuracy: 0.9884\n",
      "Epoch 28/1000\n",
      "48/81 [================>.............] - ETA: 0s - loss: 0.7028 - accuracy: 0.7327\n",
      "Epoch 28: saving model to model/keypoint_classifier\\keypoint_classifier.hdf5\n",
      "81/81 [==============================] - 0s 2ms/step - loss: 0.7037 - accuracy: 0.7318 - val_loss: 0.2390 - val_accuracy: 0.9893\n",
      "Epoch 29/1000\n",
      "44/81 [===============>..............] - ETA: 0s - loss: 0.7174 - accuracy: 0.7262\n",
      "Epoch 29: saving model to model/keypoint_classifier\\keypoint_classifier.hdf5\n",
      "81/81 [==============================] - 0s 3ms/step - loss: 0.7066 - accuracy: 0.7303 - val_loss: 0.2398 - val_accuracy: 0.9864\n",
      "Epoch 30/1000\n",
      "46/81 [================>.............] - ETA: 0s - loss: 0.6726 - accuracy: 0.7417\n",
      "Epoch 30: saving model to model/keypoint_classifier\\keypoint_classifier.hdf5\n",
      "81/81 [==============================] - 0s 3ms/step - loss: 0.6807 - accuracy: 0.7365 - val_loss: 0.2293 - val_accuracy: 0.9843\n",
      "Epoch 31/1000\n",
      "41/81 [==============>...............] - ETA: 0s - loss: 0.6755 - accuracy: 0.7410\n",
      "Epoch 31: saving model to model/keypoint_classifier\\keypoint_classifier.hdf5\n",
      "81/81 [==============================] - 0s 3ms/step - loss: 0.6857 - accuracy: 0.7373 - val_loss: 0.2306 - val_accuracy: 0.9826\n",
      "Epoch 32/1000\n",
      "44/81 [===============>..............] - ETA: 0s - loss: 0.6851 - accuracy: 0.7413\n",
      "Epoch 32: saving model to model/keypoint_classifier\\keypoint_classifier.hdf5\n",
      "81/81 [==============================] - 0s 3ms/step - loss: 0.6821 - accuracy: 0.7414 - val_loss: 0.2219 - val_accuracy: 0.9751\n",
      "Epoch 33/1000\n",
      "46/81 [================>.............] - ETA: 0s - loss: 0.6826 - accuracy: 0.7374\n",
      "Epoch 33: saving model to model/keypoint_classifier\\keypoint_classifier.hdf5\n",
      "81/81 [==============================] - 0s 3ms/step - loss: 0.6851 - accuracy: 0.7384 - val_loss: 0.2185 - val_accuracy: 0.9814\n",
      "Epoch 34/1000\n",
      "45/81 [===============>..............] - ETA: 0s - loss: 0.6880 - accuracy: 0.7431\n",
      "Epoch 34: saving model to model/keypoint_classifier\\keypoint_classifier.hdf5\n",
      "81/81 [==============================] - 0s 3ms/step - loss: 0.6803 - accuracy: 0.7402 - val_loss: 0.2156 - val_accuracy: 0.9884\n",
      "Epoch 35/1000\n",
      "45/81 [===============>..............] - ETA: 0s - loss: 0.6712 - accuracy: 0.7451\n",
      "Epoch 35: saving model to model/keypoint_classifier\\keypoint_classifier.hdf5\n",
      "81/81 [==============================] - 0s 3ms/step - loss: 0.6692 - accuracy: 0.7463 - val_loss: 0.2107 - val_accuracy: 0.9838\n",
      "Epoch 36/1000\n",
      "44/81 [===============>..............] - ETA: 0s - loss: 0.6641 - accuracy: 0.7433\n",
      "Epoch 36: saving model to model/keypoint_classifier\\keypoint_classifier.hdf5\n",
      "81/81 [==============================] - 0s 3ms/step - loss: 0.6612 - accuracy: 0.7436 - val_loss: 0.2109 - val_accuracy: 0.9783\n",
      "Epoch 37/1000\n",
      "45/81 [===============>..............] - ETA: 0s - loss: 0.6370 - accuracy: 0.7533\n",
      "Epoch 37: saving model to model/keypoint_classifier\\keypoint_classifier.hdf5\n",
      "81/81 [==============================] - 0s 3ms/step - loss: 0.6591 - accuracy: 0.7451 - val_loss: 0.2113 - val_accuracy: 0.9832\n",
      "Epoch 38/1000\n",
      "41/81 [==============>...............] - ETA: 0s - loss: 0.6613 - accuracy: 0.7420\n",
      "Epoch 38: saving model to model/keypoint_classifier\\keypoint_classifier.hdf5\n",
      "81/81 [==============================] - 0s 3ms/step - loss: 0.6502 - accuracy: 0.7460 - val_loss: 0.1979 - val_accuracy: 0.9852\n",
      "Epoch 39/1000\n",
      "80/81 [============================>.] - ETA: 0s - loss: 0.6477 - accuracy: 0.7541\n",
      "Epoch 39: saving model to model/keypoint_classifier\\keypoint_classifier.hdf5\n",
      "81/81 [==============================] - 0s 3ms/step - loss: 0.6483 - accuracy: 0.7537 - val_loss: 0.1969 - val_accuracy: 0.9809\n",
      "Epoch 40/1000\n",
      "77/81 [===========================>..] - ETA: 0s - loss: 0.6479 - accuracy: 0.7486\n",
      "Epoch 40: saving model to model/keypoint_classifier\\keypoint_classifier.hdf5\n",
      "81/81 [==============================] - 0s 3ms/step - loss: 0.6501 - accuracy: 0.7481 - val_loss: 0.1983 - val_accuracy: 0.9809\n",
      "Epoch 41/1000\n",
      "76/81 [===========================>..] - ETA: 0s - loss: 0.6244 - accuracy: 0.7584\n",
      "Epoch 41: saving model to model/keypoint_classifier\\keypoint_classifier.hdf5\n",
      "81/81 [==============================] - 0s 3ms/step - loss: 0.6237 - accuracy: 0.7579 - val_loss: 0.1923 - val_accuracy: 0.9919\n",
      "Epoch 42/1000\n",
      "43/81 [==============>...............] - ETA: 0s - loss: 0.6318 - accuracy: 0.7609\n",
      "Epoch 42: saving model to model/keypoint_classifier\\keypoint_classifier.hdf5\n",
      "81/81 [==============================] - 0s 3ms/step - loss: 0.6246 - accuracy: 0.7620 - val_loss: 0.1810 - val_accuracy: 0.9907\n",
      "Epoch 43/1000\n",
      "42/81 [==============>...............] - ETA: 0s - loss: 0.6275 - accuracy: 0.7623\n",
      "Epoch 43: saving model to model/keypoint_classifier\\keypoint_classifier.hdf5\n",
      "81/81 [==============================] - 0s 3ms/step - loss: 0.6401 - accuracy: 0.7568 - val_loss: 0.1875 - val_accuracy: 0.9870\n",
      "Epoch 44/1000\n",
      "66/81 [=======================>......] - ETA: 0s - loss: 0.6314 - accuracy: 0.7624\n",
      "Epoch 44: saving model to model/keypoint_classifier\\keypoint_classifier.hdf5\n",
      "81/81 [==============================] - 0s 3ms/step - loss: 0.6357 - accuracy: 0.7596 - val_loss: 0.1858 - val_accuracy: 0.9864\n",
      "Epoch 45/1000\n",
      "42/81 [==============>...............] - ETA: 0s - loss: 0.6321 - accuracy: 0.7619\n",
      "Epoch 45: saving model to model/keypoint_classifier\\keypoint_classifier.hdf5\n",
      "81/81 [==============================] - 0s 3ms/step - loss: 0.6289 - accuracy: 0.7636 - val_loss: 0.1863 - val_accuracy: 0.9835\n",
      "Epoch 46/1000\n",
      "42/81 [==============>...............] - ETA: 0s - loss: 0.6338 - accuracy: 0.7552\n",
      "Epoch 46: saving model to model/keypoint_classifier\\keypoint_classifier.hdf5\n",
      "81/81 [==============================] - 0s 3ms/step - loss: 0.6414 - accuracy: 0.7502 - val_loss: 0.1836 - val_accuracy: 0.9910\n",
      "Epoch 47/1000\n",
      "45/81 [===============>..............] - ETA: 0s - loss: 0.6431 - accuracy: 0.7517\n",
      "Epoch 47: saving model to model/keypoint_classifier\\keypoint_classifier.hdf5\n",
      "81/81 [==============================] - 0s 3ms/step - loss: 0.6362 - accuracy: 0.7578 - val_loss: 0.1840 - val_accuracy: 0.9896\n",
      "Epoch 48/1000\n",
      "46/81 [================>.............] - ETA: 0s - loss: 0.6245 - accuracy: 0.7615\n",
      "Epoch 48: saving model to model/keypoint_classifier\\keypoint_classifier.hdf5\n",
      "81/81 [==============================] - 0s 3ms/step - loss: 0.6167 - accuracy: 0.7658 - val_loss: 0.1775 - val_accuracy: 0.9899\n",
      "Epoch 49/1000\n",
      "44/81 [===============>..............] - ETA: 0s - loss: 0.6199 - accuracy: 0.7665\n",
      "Epoch 49: saving model to model/keypoint_classifier\\keypoint_classifier.hdf5\n",
      "81/81 [==============================] - 0s 3ms/step - loss: 0.6108 - accuracy: 0.7652 - val_loss: 0.1689 - val_accuracy: 0.9910\n",
      "Epoch 50/1000\n",
      "43/81 [==============>...............] - ETA: 0s - loss: 0.6205 - accuracy: 0.7660\n",
      "Epoch 50: saving model to model/keypoint_classifier\\keypoint_classifier.hdf5\n",
      "81/81 [==============================] - 0s 3ms/step - loss: 0.6212 - accuracy: 0.7646 - val_loss: 0.1740 - val_accuracy: 0.9916\n",
      "Epoch 51/1000\n",
      "44/81 [===============>..............] - ETA: 0s - loss: 0.6074 - accuracy: 0.7733\n",
      "Epoch 51: saving model to model/keypoint_classifier\\keypoint_classifier.hdf5\n",
      "81/81 [==============================] - 0s 3ms/step - loss: 0.6080 - accuracy: 0.7713 - val_loss: 0.1720 - val_accuracy: 0.9901\n",
      "Epoch 52/1000\n",
      "46/81 [================>.............] - ETA: 0s - loss: 0.6358 - accuracy: 0.7542\n",
      "Epoch 52: saving model to model/keypoint_classifier\\keypoint_classifier.hdf5\n",
      "81/81 [==============================] - 0s 3ms/step - loss: 0.6264 - accuracy: 0.7598 - val_loss: 0.1770 - val_accuracy: 0.9899\n",
      "Epoch 53/1000\n",
      "42/81 [==============>...............] - ETA: 0s - loss: 0.6001 - accuracy: 0.7727\n",
      "Epoch 53: saving model to model/keypoint_classifier\\keypoint_classifier.hdf5\n",
      "81/81 [==============================] - 0s 3ms/step - loss: 0.6046 - accuracy: 0.7696 - val_loss: 0.1721 - val_accuracy: 0.9901\n",
      "Epoch 54/1000\n",
      "42/81 [==============>...............] - ETA: 0s - loss: 0.6144 - accuracy: 0.7680\n",
      "Epoch 54: saving model to model/keypoint_classifier\\keypoint_classifier.hdf5\n",
      "81/81 [==============================] - 0s 3ms/step - loss: 0.6190 - accuracy: 0.7664 - val_loss: 0.1747 - val_accuracy: 0.9884\n",
      "Epoch 55/1000\n"
     ]
    },
    {
     "name": "stdout",
     "output_type": "stream",
     "text": [
      "43/81 [==============>...............] - ETA: 0s - loss: 0.6147 - accuracy: 0.7669\n",
      "Epoch 55: saving model to model/keypoint_classifier\\keypoint_classifier.hdf5\n",
      "81/81 [==============================] - 0s 2ms/step - loss: 0.6170 - accuracy: 0.7653 - val_loss: 0.1692 - val_accuracy: 0.9872\n",
      "Epoch 56/1000\n",
      "45/81 [===============>..............] - ETA: 0s - loss: 0.5854 - accuracy: 0.7753\n",
      "Epoch 56: saving model to model/keypoint_classifier\\keypoint_classifier.hdf5\n",
      "81/81 [==============================] - 0s 3ms/step - loss: 0.5991 - accuracy: 0.7706 - val_loss: 0.1617 - val_accuracy: 0.9852\n",
      "Epoch 57/1000\n",
      "42/81 [==============>...............] - ETA: 0s - loss: 0.5909 - accuracy: 0.7803\n",
      "Epoch 57: saving model to model/keypoint_classifier\\keypoint_classifier.hdf5\n",
      "81/81 [==============================] - 0s 3ms/step - loss: 0.5992 - accuracy: 0.7751 - val_loss: 0.1633 - val_accuracy: 0.9890\n",
      "Epoch 58/1000\n",
      "46/81 [================>.............] - ETA: 0s - loss: 0.5891 - accuracy: 0.7802\n",
      "Epoch 58: saving model to model/keypoint_classifier\\keypoint_classifier.hdf5\n",
      "81/81 [==============================] - 0s 2ms/step - loss: 0.5937 - accuracy: 0.7759 - val_loss: 0.1605 - val_accuracy: 0.9852\n",
      "Epoch 59/1000\n",
      "44/81 [===============>..............] - ETA: 0s - loss: 0.5870 - accuracy: 0.7773\n",
      "Epoch 59: saving model to model/keypoint_classifier\\keypoint_classifier.hdf5\n",
      "81/81 [==============================] - 0s 2ms/step - loss: 0.5954 - accuracy: 0.7759 - val_loss: 0.1616 - val_accuracy: 0.9904\n",
      "Epoch 60/1000\n",
      "79/81 [============================>.] - ETA: 0s - loss: 0.5929 - accuracy: 0.7748\n",
      "Epoch 60: saving model to model/keypoint_classifier\\keypoint_classifier.hdf5\n",
      "81/81 [==============================] - 0s 3ms/step - loss: 0.5925 - accuracy: 0.7751 - val_loss: 0.1553 - val_accuracy: 0.9893\n",
      "Epoch 61/1000\n",
      "78/81 [===========================>..] - ETA: 0s - loss: 0.5885 - accuracy: 0.7767\n",
      "Epoch 61: saving model to model/keypoint_classifier\\keypoint_classifier.hdf5\n",
      "81/81 [==============================] - 0s 3ms/step - loss: 0.5907 - accuracy: 0.7757 - val_loss: 0.1628 - val_accuracy: 0.9928\n",
      "Epoch 62/1000\n",
      "44/81 [===============>..............] - ETA: 0s - loss: 0.5879 - accuracy: 0.7812\n",
      "Epoch 62: saving model to model/keypoint_classifier\\keypoint_classifier.hdf5\n",
      "81/81 [==============================] - 0s 3ms/step - loss: 0.5877 - accuracy: 0.7787 - val_loss: 0.1569 - val_accuracy: 0.9896\n",
      "Epoch 63/1000\n",
      "77/81 [===========================>..] - ETA: 0s - loss: 0.5930 - accuracy: 0.7752\n",
      "Epoch 63: saving model to model/keypoint_classifier\\keypoint_classifier.hdf5\n",
      "81/81 [==============================] - 0s 3ms/step - loss: 0.5912 - accuracy: 0.7755 - val_loss: 0.1617 - val_accuracy: 0.9899\n",
      "Epoch 64/1000\n",
      "42/81 [==============>...............] - ETA: 0s - loss: 0.5990 - accuracy: 0.7742\n",
      "Epoch 64: saving model to model/keypoint_classifier\\keypoint_classifier.hdf5\n",
      "81/81 [==============================] - 0s 3ms/step - loss: 0.5894 - accuracy: 0.7757 - val_loss: 0.1573 - val_accuracy: 0.9896\n",
      "Epoch 65/1000\n",
      "79/81 [============================>.] - ETA: 0s - loss: 0.5797 - accuracy: 0.7782\n",
      "Epoch 65: saving model to model/keypoint_classifier\\keypoint_classifier.hdf5\n",
      "81/81 [==============================] - 0s 3ms/step - loss: 0.5795 - accuracy: 0.7784 - val_loss: 0.1494 - val_accuracy: 0.9904\n",
      "Epoch 66/1000\n",
      "77/81 [===========================>..] - ETA: 0s - loss: 0.5857 - accuracy: 0.7844\n",
      "Epoch 66: saving model to model/keypoint_classifier\\keypoint_classifier.hdf5\n",
      "81/81 [==============================] - 0s 3ms/step - loss: 0.5828 - accuracy: 0.7849 - val_loss: 0.1506 - val_accuracy: 0.9899\n",
      "Epoch 67/1000\n",
      "81/81 [==============================] - ETA: 0s - loss: 0.5831 - accuracy: 0.7791\n",
      "Epoch 67: saving model to model/keypoint_classifier\\keypoint_classifier.hdf5\n",
      "81/81 [==============================] - 0s 3ms/step - loss: 0.5831 - accuracy: 0.7791 - val_loss: 0.1509 - val_accuracy: 0.9899\n",
      "Epoch 68/1000\n",
      "45/81 [===============>..............] - ETA: 0s - loss: 0.5979 - accuracy: 0.7821\n",
      "Epoch 68: saving model to model/keypoint_classifier\\keypoint_classifier.hdf5\n",
      "81/81 [==============================] - 0s 3ms/step - loss: 0.5785 - accuracy: 0.7864 - val_loss: 0.1517 - val_accuracy: 0.9899\n",
      "Epoch 69/1000\n",
      "44/81 [===============>..............] - ETA: 0s - loss: 0.5757 - accuracy: 0.7875\n",
      "Epoch 69: saving model to model/keypoint_classifier\\keypoint_classifier.hdf5\n",
      "81/81 [==============================] - 0s 3ms/step - loss: 0.5704 - accuracy: 0.7862 - val_loss: 0.1476 - val_accuracy: 0.9904\n",
      "Epoch 70/1000\n",
      "44/81 [===============>..............] - ETA: 0s - loss: 0.5666 - accuracy: 0.7868\n",
      "Epoch 70: saving model to model/keypoint_classifier\\keypoint_classifier.hdf5\n",
      "81/81 [==============================] - 0s 3ms/step - loss: 0.5749 - accuracy: 0.7859 - val_loss: 0.1529 - val_accuracy: 0.9907\n",
      "Epoch 71/1000\n",
      "45/81 [===============>..............] - ETA: 0s - loss: 0.5770 - accuracy: 0.7793\n",
      "Epoch 71: saving model to model/keypoint_classifier\\keypoint_classifier.hdf5\n",
      "81/81 [==============================] - 0s 3ms/step - loss: 0.5723 - accuracy: 0.7830 - val_loss: 0.1454 - val_accuracy: 0.9919\n",
      "Epoch 72/1000\n",
      "80/81 [============================>.] - ETA: 0s - loss: 0.5645 - accuracy: 0.7811\n",
      "Epoch 72: saving model to model/keypoint_classifier\\keypoint_classifier.hdf5\n",
      "81/81 [==============================] - 0s 3ms/step - loss: 0.5661 - accuracy: 0.7802 - val_loss: 0.1469 - val_accuracy: 0.9913\n",
      "Epoch 73/1000\n",
      "70/81 [========================>.....] - ETA: 0s - loss: 0.5557 - accuracy: 0.7977\n",
      "Epoch 73: saving model to model/keypoint_classifier\\keypoint_classifier.hdf5\n",
      "81/81 [==============================] - 0s 3ms/step - loss: 0.5587 - accuracy: 0.7963 - val_loss: 0.1402 - val_accuracy: 0.9907\n",
      "Epoch 74/1000\n",
      "43/81 [==============>...............] - ETA: 0s - loss: 0.5861 - accuracy: 0.7753\n",
      "Epoch 74: saving model to model/keypoint_classifier\\keypoint_classifier.hdf5\n",
      "81/81 [==============================] - 0s 3ms/step - loss: 0.5831 - accuracy: 0.7801 - val_loss: 0.1545 - val_accuracy: 0.9872\n",
      "Epoch 75/1000\n",
      "73/81 [==========================>...] - ETA: 0s - loss: 0.5598 - accuracy: 0.7935\n",
      "Epoch 75: saving model to model/keypoint_classifier\\keypoint_classifier.hdf5\n",
      "81/81 [==============================] - 0s 3ms/step - loss: 0.5585 - accuracy: 0.7937 - val_loss: 0.1427 - val_accuracy: 0.9907\n",
      "Epoch 76/1000\n",
      "78/81 [===========================>..] - ETA: 0s - loss: 0.5659 - accuracy: 0.7897\n",
      "Epoch 76: saving model to model/keypoint_classifier\\keypoint_classifier.hdf5\n",
      "81/81 [==============================] - 0s 3ms/step - loss: 0.5662 - accuracy: 0.7909 - val_loss: 0.1414 - val_accuracy: 0.9910\n",
      "Epoch 77/1000\n",
      "81/81 [==============================] - ETA: 0s - loss: 0.5563 - accuracy: 0.7898\n",
      "Epoch 77: saving model to model/keypoint_classifier\\keypoint_classifier.hdf5\n",
      "81/81 [==============================] - 0s 4ms/step - loss: 0.5563 - accuracy: 0.7898 - val_loss: 0.1386 - val_accuracy: 0.9904\n",
      "Epoch 78/1000\n",
      "57/81 [====================>.........] - ETA: 0s - loss: 0.5549 - accuracy: 0.7911\n",
      "Epoch 78: saving model to model/keypoint_classifier\\keypoint_classifier.hdf5\n",
      "81/81 [==============================] - 0s 4ms/step - loss: 0.5607 - accuracy: 0.7903 - val_loss: 0.1427 - val_accuracy: 0.9907\n",
      "Epoch 79/1000\n",
      "71/81 [=========================>....] - ETA: 0s - loss: 0.5610 - accuracy: 0.7894\n",
      "Epoch 79: saving model to model/keypoint_classifier\\keypoint_classifier.hdf5\n",
      "81/81 [==============================] - 0s 3ms/step - loss: 0.5625 - accuracy: 0.7886 - val_loss: 0.1436 - val_accuracy: 0.9910\n",
      "Epoch 80/1000\n",
      "78/81 [===========================>..] - ETA: 0s - loss: 0.5465 - accuracy: 0.7944\n",
      "Epoch 80: saving model to model/keypoint_classifier\\keypoint_classifier.hdf5\n",
      "81/81 [==============================] - 0s 3ms/step - loss: 0.5470 - accuracy: 0.7943 - val_loss: 0.1409 - val_accuracy: 0.9930\n",
      "Epoch 81/1000\n",
      "79/81 [============================>.] - ETA: 0s - loss: 0.5575 - accuracy: 0.7935\n",
      "Epoch 81: saving model to model/keypoint_classifier\\keypoint_classifier.hdf5\n",
      "81/81 [==============================] - 0s 3ms/step - loss: 0.5558 - accuracy: 0.7947 - val_loss: 0.1417 - val_accuracy: 0.9913\n",
      "Epoch 82/1000\n",
      "45/81 [===============>..............] - ETA: 0s - loss: 0.5462 - accuracy: 0.7957\n",
      "Epoch 82: saving model to model/keypoint_classifier\\keypoint_classifier.hdf5\n",
      "81/81 [==============================] - 0s 3ms/step - loss: 0.5535 - accuracy: 0.7901 - val_loss: 0.1338 - val_accuracy: 0.9910\n",
      "Epoch 83/1000\n",
      "42/81 [==============>...............] - ETA: 0s - loss: 0.5477 - accuracy: 0.7891\n",
      "Epoch 83: saving model to model/keypoint_classifier\\keypoint_classifier.hdf5\n",
      "81/81 [==============================] - 0s 3ms/step - loss: 0.5512 - accuracy: 0.7939 - val_loss: 0.1438 - val_accuracy: 0.9913\n",
      "Epoch 84/1000\n",
      "40/81 [=============>................] - ETA: 0s - loss: 0.5509 - accuracy: 0.7996\n",
      "Epoch 84: saving model to model/keypoint_classifier\\keypoint_classifier.hdf5\n",
      "81/81 [==============================] - 0s 3ms/step - loss: 0.5498 - accuracy: 0.7996 - val_loss: 0.1427 - val_accuracy: 0.9884\n",
      "Epoch 85/1000\n",
      "80/81 [============================>.] - ETA: 0s - loss: 0.5432 - accuracy: 0.7991\n",
      "Epoch 85: saving model to model/keypoint_classifier\\keypoint_classifier.hdf5\n",
      "81/81 [==============================] - 0s 3ms/step - loss: 0.5425 - accuracy: 0.7993 - val_loss: 0.1353 - val_accuracy: 0.9925\n",
      "Epoch 86/1000\n",
      "45/81 [===============>..............] - ETA: 0s - loss: 0.5813 - accuracy: 0.7806\n",
      "Epoch 86: saving model to model/keypoint_classifier\\keypoint_classifier.hdf5\n",
      "81/81 [==============================] - 0s 3ms/step - loss: 0.5686 - accuracy: 0.7892 - val_loss: 0.1370 - val_accuracy: 0.9910\n",
      "Epoch 87/1000\n",
      "80/81 [============================>.] - ETA: 0s - loss: 0.5552 - accuracy: 0.7914\n",
      "Epoch 87: saving model to model/keypoint_classifier\\keypoint_classifier.hdf5\n",
      "81/81 [==============================] - 0s 3ms/step - loss: 0.5547 - accuracy: 0.7914 - val_loss: 0.1377 - val_accuracy: 0.9916\n",
      "Epoch 88/1000\n",
      "79/81 [============================>.] - ETA: 0s - loss: 0.5253 - accuracy: 0.8078\n",
      "Epoch 88: saving model to model/keypoint_classifier\\keypoint_classifier.hdf5\n",
      "81/81 [==============================] - 0s 3ms/step - loss: 0.5245 - accuracy: 0.8076 - val_loss: 0.1328 - val_accuracy: 0.9910\n",
      "Epoch 89/1000\n",
      "78/81 [===========================>..] - ETA: 0s - loss: 0.5417 - accuracy: 0.7997\n",
      "Epoch 89: saving model to model/keypoint_classifier\\keypoint_classifier.hdf5\n",
      "81/81 [==============================] - 0s 3ms/step - loss: 0.5425 - accuracy: 0.7984 - val_loss: 0.1388 - val_accuracy: 0.9890\n",
      "Epoch 90/1000\n",
      "42/81 [==============>...............] - ETA: 0s - loss: 0.5412 - accuracy: 0.7952\n",
      "Epoch 90: saving model to model/keypoint_classifier\\keypoint_classifier.hdf5\n",
      "81/81 [==============================] - 0s 3ms/step - loss: 0.5395 - accuracy: 0.7965 - val_loss: 0.1372 - val_accuracy: 0.9896\n",
      "Epoch 91/1000\n",
      "79/81 [============================>.] - ETA: 0s - loss: 0.5461 - accuracy: 0.7959\n",
      "Epoch 91: saving model to model/keypoint_classifier\\keypoint_classifier.hdf5\n",
      "81/81 [==============================] - 0s 3ms/step - loss: 0.5451 - accuracy: 0.7958 - val_loss: 0.1362 - val_accuracy: 0.9901\n",
      "Epoch 92/1000\n",
      "43/81 [==============>...............] - ETA: 0s - loss: 0.5466 - accuracy: 0.7952\n",
      "Epoch 92: saving model to model/keypoint_classifier\\keypoint_classifier.hdf5\n",
      "81/81 [==============================] - 0s 3ms/step - loss: 0.5416 - accuracy: 0.7987 - val_loss: 0.1343 - val_accuracy: 0.9907\n",
      "Epoch 93/1000\n",
      "73/81 [==========================>...] - ETA: 0s - loss: 0.5277 - accuracy: 0.8057\n",
      "Epoch 93: saving model to model/keypoint_classifier\\keypoint_classifier.hdf5\n",
      "81/81 [==============================] - 0s 3ms/step - loss: 0.5316 - accuracy: 0.8035 - val_loss: 0.1307 - val_accuracy: 0.9904\n",
      "Epoch 94/1000\n",
      "40/81 [=============>................] - ETA: 0s - loss: 0.5443 - accuracy: 0.7998\n",
      "Epoch 94: saving model to model/keypoint_classifier\\keypoint_classifier.hdf5\n",
      "81/81 [==============================] - 0s 3ms/step - loss: 0.5330 - accuracy: 0.8022 - val_loss: 0.1272 - val_accuracy: 0.9922\n",
      "Epoch 95/1000\n",
      "42/81 [==============>...............] - ETA: 0s - loss: 0.5232 - accuracy: 0.8041\n",
      "Epoch 95: saving model to model/keypoint_classifier\\keypoint_classifier.hdf5\n",
      "81/81 [==============================] - 0s 3ms/step - loss: 0.5272 - accuracy: 0.8047 - val_loss: 0.1335 - val_accuracy: 0.9913\n",
      "Epoch 96/1000\n",
      "41/81 [==============>...............] - ETA: 0s - loss: 0.5390 - accuracy: 0.7990\n",
      "Epoch 96: saving model to model/keypoint_classifier\\keypoint_classifier.hdf5\n",
      "81/81 [==============================] - 0s 3ms/step - loss: 0.5387 - accuracy: 0.8000 - val_loss: 0.1335 - val_accuracy: 0.9899\n",
      "Epoch 97/1000\n",
      "81/81 [==============================] - ETA: 0s - loss: 0.5337 - accuracy: 0.8014\n",
      "Epoch 97: saving model to model/keypoint_classifier\\keypoint_classifier.hdf5\n",
      "81/81 [==============================] - 0s 3ms/step - loss: 0.5337 - accuracy: 0.8014 - val_loss: 0.1302 - val_accuracy: 0.9922\n",
      "Epoch 98/1000\n",
      "44/81 [===============>..............] - ETA: 0s - loss: 0.5607 - accuracy: 0.7963\n",
      "Epoch 98: saving model to model/keypoint_classifier\\keypoint_classifier.hdf5\n",
      "81/81 [==============================] - 0s 2ms/step - loss: 0.5500 - accuracy: 0.7983 - val_loss: 0.1409 - val_accuracy: 0.9916\n",
      "Epoch 99/1000\n",
      "41/81 [==============>...............] - ETA: 0s - loss: 0.5302 - accuracy: 0.8072\n",
      "Epoch 99: saving model to model/keypoint_classifier\\keypoint_classifier.hdf5\n",
      "81/81 [==============================] - 0s 3ms/step - loss: 0.5246 - accuracy: 0.8076 - val_loss: 0.1364 - val_accuracy: 0.9907\n",
      "Epoch 100/1000\n",
      "81/81 [==============================] - ETA: 0s - loss: 0.5221 - accuracy: 0.8082\n",
      "Epoch 100: saving model to model/keypoint_classifier\\keypoint_classifier.hdf5\n",
      "81/81 [==============================] - 0s 3ms/step - loss: 0.5221 - accuracy: 0.8082 - val_loss: 0.1336 - val_accuracy: 0.9910\n",
      "Epoch 101/1000\n",
      "42/81 [==============>...............] - ETA: 0s - loss: 0.5237 - accuracy: 0.8034\n",
      "Epoch 101: saving model to model/keypoint_classifier\\keypoint_classifier.hdf5\n",
      "81/81 [==============================] - 0s 3ms/step - loss: 0.5224 - accuracy: 0.8039 - val_loss: 0.1398 - val_accuracy: 0.9910\n",
      "Epoch 102/1000\n",
      "78/81 [===========================>..] - ETA: 0s - loss: 0.5348 - accuracy: 0.8024\n",
      "Epoch 102: saving model to model/keypoint_classifier\\keypoint_classifier.hdf5\n",
      "81/81 [==============================] - 0s 3ms/step - loss: 0.5354 - accuracy: 0.8023 - val_loss: 0.1368 - val_accuracy: 0.9933\n",
      "Epoch 103/1000\n",
      "80/81 [============================>.] - ETA: 0s - loss: 0.5251 - accuracy: 0.8104\n",
      "Epoch 103: saving model to model/keypoint_classifier\\keypoint_classifier.hdf5\n",
      "81/81 [==============================] - 0s 3ms/step - loss: 0.5269 - accuracy: 0.8097 - val_loss: 0.1307 - val_accuracy: 0.9930\n",
      "Epoch 104/1000\n",
      "43/81 [==============>...............] - ETA: 0s - loss: 0.5355 - accuracy: 0.8054\n",
      "Epoch 104: saving model to model/keypoint_classifier\\keypoint_classifier.hdf5\n",
      "81/81 [==============================] - 0s 3ms/step - loss: 0.5341 - accuracy: 0.8075 - val_loss: 0.1381 - val_accuracy: 0.9922\n",
      "Epoch 105/1000\n",
      "78/81 [===========================>..] - ETA: 0s - loss: 0.5163 - accuracy: 0.8038\n",
      "Epoch 105: saving model to model/keypoint_classifier\\keypoint_classifier.hdf5\n",
      "81/81 [==============================] - 0s 3ms/step - loss: 0.5159 - accuracy: 0.8043 - val_loss: 0.1293 - val_accuracy: 0.9930\n",
      "Epoch 106/1000\n",
      "39/81 [=============>................] - ETA: 0s - loss: 0.5394 - accuracy: 0.7981\n",
      "Epoch 106: saving model to model/keypoint_classifier\\keypoint_classifier.hdf5\n",
      "81/81 [==============================] - 0s 3ms/step - loss: 0.5317 - accuracy: 0.8017 - val_loss: 0.1336 - val_accuracy: 0.9907\n",
      "Epoch 107/1000\n",
      "74/81 [==========================>...] - ETA: 0s - loss: 0.5241 - accuracy: 0.8090\n",
      "Epoch 107: saving model to model/keypoint_classifier\\keypoint_classifier.hdf5\n",
      "81/81 [==============================] - 0s 3ms/step - loss: 0.5273 - accuracy: 0.8079 - val_loss: 0.1386 - val_accuracy: 0.9881\n",
      "Epoch 108/1000\n",
      "44/81 [===============>..............] - ETA: 0s - loss: 0.5178 - accuracy: 0.8063\n",
      "Epoch 108: saving model to model/keypoint_classifier\\keypoint_classifier.hdf5\n",
      "81/81 [==============================] - 0s 3ms/step - loss: 0.5176 - accuracy: 0.8085 - val_loss: 0.1327 - val_accuracy: 0.9890\n",
      "Epoch 109/1000\n"
     ]
    },
    {
     "name": "stdout",
     "output_type": "stream",
     "text": [
      "42/81 [==============>...............] - ETA: 0s - loss: 0.5235 - accuracy: 0.8047\n",
      "Epoch 109: saving model to model/keypoint_classifier\\keypoint_classifier.hdf5\n",
      "81/81 [==============================] - 0s 3ms/step - loss: 0.5266 - accuracy: 0.8063 - val_loss: 0.1332 - val_accuracy: 0.9925\n",
      "Epoch 110/1000\n",
      "81/81 [==============================] - ETA: 0s - loss: 0.5260 - accuracy: 0.8064\n",
      "Epoch 110: saving model to model/keypoint_classifier\\keypoint_classifier.hdf5\n",
      "81/81 [==============================] - 0s 3ms/step - loss: 0.5260 - accuracy: 0.8064 - val_loss: 0.1374 - val_accuracy: 0.9896\n",
      "Epoch 111/1000\n",
      "41/81 [==============>...............] - ETA: 0s - loss: 0.5249 - accuracy: 0.8133\n",
      "Epoch 111: saving model to model/keypoint_classifier\\keypoint_classifier.hdf5\n",
      "81/81 [==============================] - 0s 3ms/step - loss: 0.5237 - accuracy: 0.8125 - val_loss: 0.1467 - val_accuracy: 0.9916\n",
      "Epoch 112/1000\n",
      "78/81 [===========================>..] - ETA: 0s - loss: 0.5027 - accuracy: 0.8168\n",
      "Epoch 112: saving model to model/keypoint_classifier\\keypoint_classifier.hdf5\n",
      "81/81 [==============================] - 0s 3ms/step - loss: 0.5040 - accuracy: 0.8162 - val_loss: 0.1358 - val_accuracy: 0.9907\n",
      "Epoch 113/1000\n",
      "42/81 [==============>...............] - ETA: 0s - loss: 0.5064 - accuracy: 0.8151\n",
      "Epoch 113: saving model to model/keypoint_classifier\\keypoint_classifier.hdf5\n",
      "81/81 [==============================] - 0s 3ms/step - loss: 0.5134 - accuracy: 0.8116 - val_loss: 0.1399 - val_accuracy: 0.9861\n",
      "Epoch 114/1000\n",
      "43/81 [==============>...............] - ETA: 0s - loss: 0.5036 - accuracy: 0.8205\n",
      "Epoch 114: saving model to model/keypoint_classifier\\keypoint_classifier.hdf5\n",
      "81/81 [==============================] - 0s 3ms/step - loss: 0.5009 - accuracy: 0.8211 - val_loss: 0.1325 - val_accuracy: 0.9945\n",
      "Epoch 114: early stopping\n"
     ]
    },
    {
     "data": {
      "text/plain": [
       "<keras.callbacks.History at 0x1f3df92a748>"
      ]
     },
     "execution_count": 11,
     "metadata": {},
     "output_type": "execute_result"
    }
   ],
   "source": [
    "model.fit(\n",
    "    X_train,\n",
    "    y_train,\n",
    "    epochs=1000,\n",
    "    batch_size=128,\n",
    "    validation_data=(X_test, y_test),\n",
    "    callbacks=[cp_callback, es_callback]\n",
    ")"
   ]
  },
  {
   "cell_type": "code",
   "execution_count": 12,
   "metadata": {},
   "outputs": [
    {
     "name": "stdout",
     "output_type": "stream",
     "text": [
      "27/27 [==============================] - 0s 885us/step - loss: 0.1325 - accuracy: 0.9945\n"
     ]
    }
   ],
   "source": [
    "# モデル評価\n",
    "val_loss, val_acc = model.evaluate(X_test, y_test, batch_size=128)"
   ]
  },
  {
   "cell_type": "code",
   "execution_count": 13,
   "metadata": {},
   "outputs": [],
   "source": [
    "# 保存したモデルのロード\n",
    "model = tf.keras.models.load_model(model_save_path)"
   ]
  },
  {
   "cell_type": "code",
   "execution_count": 14,
   "metadata": {},
   "outputs": [
    {
     "name": "stdout",
     "output_type": "stream",
     "text": [
      "[9.2382797e-06 1.9431530e-01 2.3304692e-08 2.1270420e-12 7.6322372e-05\n",
      " 6.1688796e-12 1.1358045e-05 2.3047632e-02 7.8254014e-01 9.1833252e-10\n",
      " 8.1656806e-11 3.2294768e-11]\n",
      "8\n"
     ]
    }
   ],
   "source": [
    "# 推論テスト\n",
    "predict_result = model.predict(np.array([X_test[0]]))\n",
    "print(np.squeeze(predict_result))\n",
    "print(np.argmax(np.squeeze(predict_result)))"
   ]
  },
  {
   "cell_type": "markdown",
   "metadata": {},
   "source": [
    "# 混同行列"
   ]
  },
  {
   "cell_type": "code",
   "execution_count": 15,
   "metadata": {
    "scrolled": true
   },
   "outputs": [
    {
     "data": {
      "image/png": "[encoded data removed]",
      "text/plain": [
       "<Figure size 504x432 with 2 Axes>"
      ]
     },
     "metadata": {
      "needs_background": "light"
     },
     "output_type": "display_data"
    },
    {
     "name": "stdout",
     "output_type": "stream",
     "text": [
      "Classification Report\n",
      "              precision    recall  f1-score   support\n",
      "\n",
      "           0       1.00      0.98      0.99       384\n",
      "           1       1.00      1.00      1.00       257\n",
      "           2       1.00      1.00      1.00       386\n",
      "           3       0.98      1.00      0.99       406\n",
      "           4       1.00      1.00      1.00       257\n",
      "           5       1.00      0.99      0.99       232\n",
      "           6       1.00      1.00      1.00       299\n",
      "           7       0.98      1.00      0.99       287\n",
      "           8       1.00      0.98      0.99       306\n",
      "           9       1.00      1.00      1.00       272\n",
      "          10       0.99      0.99      0.99       195\n",
      "          11       1.00      1.00      1.00       169\n",
      "\n",
      "    accuracy                           0.99      3450\n",
      "   macro avg       0.99      0.99      0.99      3450\n",
      "weighted avg       0.99      0.99      0.99      3450\n",
      "\n"
     ]
    }
   ],
   "source": [
    "import pandas as pd\n",
    "import seaborn as sns\n",
    "import matplotlib.pyplot as plt\n",
    "from sklearn.metrics import confusion_matrix, classification_report\n",
    "\n",
    "def print_confusion_matrix(y_true, y_pred, report=True):\n",
    "    labels = sorted(list(set(y_true)))\n",
    "    cmx_data = confusion_matrix(y_true, y_pred, labels=labels)\n",
    "    \n",
    "    df_cmx = pd.DataFrame(cmx_data, index=labels, columns=labels)\n",
    " \n",
    "    fig, ax = plt.subplots(figsize=(7, 6))\n",
    "    sns.heatmap(df_cmx, annot=True, fmt='g' ,square=False)\n",
    "    ax.set_ylim(len(set(y_true)), 0)\n",
    "    plt.show()\n",
    "    \n",
    "    if report:\n",
    "        print('Classification Report')\n",
    "        print(classification_report(y_test, y_pred))\n",
    "\n",
    "Y_pred = model.predict(X_test)\n",
    "y_pred = np.argmax(Y_pred, axis=1)\n",
    "\n",
    "print_confusion_matrix(y_test, y_pred)"
   ]
  },
  {
   "cell_type": "markdown",
   "metadata": {},
   "source": [
    "# Tensorflow-Lite用のモデルへ変換"
   ]
  },
  {
   "cell_type": "code",
   "execution_count": 16,
   "metadata": {},
   "outputs": [],
   "source": [
    "# 推論専用のモデルとして保存\n",
    "model.save(model_save_path, include_optimizer=False)"
   ]
  },
  {
   "cell_type": "code",
   "execution_count": 17,
   "metadata": {},
   "outputs": [
    {
     "name": "stdout",
     "output_type": "stream",
     "text": [
      "INFO:tensorflow:Assets written to: C:\\Users\\Epic9\\AppData\\Local\\Temp\\tmp09a1r7p9\\assets\n"
     ]
    },
    {
     "name": "stderr",
     "output_type": "stream",
     "text": [
      "WARNING:absl:Buffer deduplication procedure will be skipped when flatbuffer library is not properly loaded\n"
     ]
    },
    {
     "data": {
      "text/plain": [
       "6768"
      ]
     },
     "execution_count": 17,
     "metadata": {},
     "output_type": "execute_result"
    }
   ],
   "source": [
    "# モデルを変換(量子化)\n",
    "tflite_save_path = 'model/keypoint_classifier/keypoint_classifier.tflite'\n",
    "\n",
    "converter = tf.lite.TFLiteConverter.from_keras_model(model)\n",
    "converter.optimizations = [tf.lite.Optimize.DEFAULT]\n",
    "tflite_quantized_model = converter.convert()\n",
    "\n",
    "open(tflite_save_path, 'wb').write(tflite_quantized_model)"
   ]
  },
  {
   "cell_type": "markdown",
   "metadata": {},
   "source": [
    "# 推論テスト"
   ]
  },
  {
   "cell_type": "code",
   "execution_count": 18,
   "metadata": {},
   "outputs": [],
   "source": [
    "interpreter = tf.lite.Interpreter(model_path=tflite_save_path)\n",
    "interpreter.allocate_tensors()"
   ]
  },
  {
   "cell_type": "code",
   "execution_count": 19,
   "metadata": {},
   "outputs": [],
   "source": [
    "# 入出力テンソルを取得\n",
    "input_details = interpreter.get_input_details()\n",
    "output_details = interpreter.get_output_details()"
   ]
  },
  {
   "cell_type": "code",
   "execution_count": 20,
   "metadata": {},
   "outputs": [],
   "source": [
    "interpreter.set_tensor(input_details[0]['index'], np.array([X_test[0]]))"
   ]
  },
  {
   "cell_type": "code",
   "execution_count": 21,
   "metadata": {
    "scrolled": true
   },
   "outputs": [
    {
     "name": "stdout",
     "output_type": "stream",
     "text": [
      "Wall time: 0 ns\n"
     ]
    }
   ],
   "source": [
    "%%time\n",
    "# 推論実施\n",
    "interpreter.invoke()\n",
    "tflite_results = interpreter.get_tensor(output_details[0]['index'])"
   ]
  },
  {
   "cell_type": "code",
   "execution_count": 22,
   "metadata": {},
   "outputs": [
    {
     "name": "stdout",
     "output_type": "stream",
     "text": [
      "[9.2382816e-06 1.9431506e-01 2.3304697e-08 2.1270427e-12 7.6322307e-05\n",
      " 6.1688922e-12 1.1358068e-05 2.3047673e-02 7.8254026e-01 9.1833269e-10\n",
      " 8.1656966e-11 3.2294771e-11]\n",
      "8\n"
     ]
    }
   ],
   "source": [
    "print(np.squeeze(tflite_results))\n",
    "print(np.argmax(np.squeeze(tflite_results)))"
   ]
  }
 ],
 "metadata": {
  "kernelspec": {
   "display_name": "Python 3 (ipykernel)",
   "language": "python",
   "name": "python3"
  },
  "language_info": {
   "codemirror_mode": {
    "name": "ipython",
    "version": 3
   },
   "file_extension": ".py",
   "mimetype": "text/x-python",
   "name": "python",
   "nbconvert_exporter": "python",
   "pygments_lexer": "ipython3",
   "version": "3.7.7"
  },
  "varInspector": {
   "cols": {
    "lenName": 16,
    "lenType": 16,
    "lenVar": 40
   },
   "kernels_config": {
    "python": {
     "delete_cmd_postfix": "",
     "delete_cmd_prefix": "del ",
     "library": "var_list.py",
     "varRefreshCmd": "print(var_dic_list())"
    },
    "r": {
     "delete_cmd_postfix": ") ",
     "delete_cmd_prefix": "rm(",
     "library": "var_list.r",
     "varRefreshCmd": "cat(var_dic_list()) "
    }
   },
   "types_to_exclude": [
    "module",
    "function",
    "builtin_function_or_method",
    "instance",
    "_Feature"
   ],
   "window_display": false
  }
 },
 "nbformat": 4,
 "nbformat_minor": 4
}
